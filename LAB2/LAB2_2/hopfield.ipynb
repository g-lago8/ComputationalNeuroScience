{
 "cells": [
  {
   "cell_type": "code",
   "execution_count": 164,
   "metadata": {},
   "outputs": [],
   "source": [
    "import pandas as pd\n",
    "import numpy as np\n",
    "import matplotlib.pyplot as plt\n",
    "from distort_image_ import distort_image\n",
    "\n",
    "path =\"lab2_2_data\""
   ]
  },
  {
   "cell_type": "code",
   "execution_count": 167,
   "metadata": {},
   "outputs": [
    {
     "data": {
      "text/plain": [
       "<matplotlib.image.AxesImage at 0x16a32a0e350>"
      ]
     },
     "execution_count": 167,
     "metadata": {},
     "output_type": "execute_result"
    },
    {
     "data": {
      "image/png": "[encoded data removed]",
      "text/plain": [
       "<Figure size 640x480 with 1 Axes>"
      ]
     },
     "metadata": {},
     "output_type": "display_data"
    }
   ],
   "source": []
  },
  {
   "cell_type": "code",
   "execution_count": 21,
   "metadata": {},
   "outputs": [],
   "source": [
    "im=[]\n",
    "for i in range(3):    \n",
    "    im.append( pd.read_csv(path + f\"/p{i}.csv\", header=None))\n",
    "    im[i]=np.array(im[i])\n",
    "    im[i]=im[i].reshape(32,32).T\n",
    "\n"
   ]
  },
  {
   "cell_type": "code",
   "execution_count": 22,
   "metadata": {},
   "outputs": [
    {
     "data": {
      "image/png": "[encoded data removed]",
      "text/plain": [
       "<Figure size 640x480 with 3 Axes>"
      ]
     },
     "metadata": {},
     "output_type": "display_data"
    }
   ],
   "source": [
    "fig, axs = plt.subplots(1,3)\n",
    "\n",
    "for i, ax in enumerate(axs):\n",
    "    ax.imshow(im[i])"
   ]
  },
  {
   "cell_type": "code",
   "execution_count": 111,
   "metadata": {},
   "outputs": [
    {
     "data": {
      "text/plain": [
       "array([[ 1.        , -0.29277002,  0.25819889],\n",
       "       [-0.29277002,  1.        ,  0.37796447],\n",
       "       [ 0.25819889,  0.37796447,  1.        ]])"
      ]
     },
     "execution_count": 111,
     "metadata": {},
     "output_type": "execute_result"
    }
   ],
   "source": [
    "p1 = np.array([-1, -1, +1, -1, +1, -1, -1, +1]) # --+-+--+\n",
    "p2 = np.array([-1, -1, -1, -1, -1, +1, -1, -1])\n",
    "p3 = np.array([-1, +1, +1, -1, -1, +1, -1, +1])\n",
    "p =[p1,p2,p3]\n",
    "np.corrcoef(p)"
   ]
  },
  {
   "cell_type": "code",
   "execution_count": 106,
   "metadata": {},
   "outputs": [
    {
     "data": {
      "text/plain": [
       "array([[ 0.        ,  0.33333333, -0.33333333,  1.        ,  0.33333333,\n",
       "        -0.33333333,  1.        , -0.33333333],\n",
       "       [ 0.33333333,  0.        ,  0.33333333,  0.33333333, -0.33333333,\n",
       "         0.33333333,  0.33333333,  0.33333333],\n",
       "       [-0.33333333,  0.33333333,  0.        , -0.33333333,  0.33333333,\n",
       "        -0.33333333, -0.33333333,  1.        ],\n",
       "       [ 1.        ,  0.33333333, -0.33333333,  0.        ,  0.33333333,\n",
       "        -0.33333333,  1.        , -0.33333333],\n",
       "       [ 0.33333333, -0.33333333,  0.33333333,  0.33333333,  0.        ,\n",
       "        -1.        ,  0.33333333,  0.33333333],\n",
       "       [-0.33333333,  0.33333333, -0.33333333, -0.33333333, -1.        ,\n",
       "         0.        , -0.33333333, -0.33333333],\n",
       "       [ 1.        ,  0.33333333, -0.33333333,  1.        ,  0.33333333,\n",
       "        -0.33333333,  0.        , -0.33333333],\n",
       "       [-0.33333333,  0.33333333,  1.        , -0.33333333,  0.33333333,\n",
       "        -0.33333333, -0.33333333,  0.        ]])"
      ]
     },
     "execution_count": 106,
     "metadata": {},
     "output_type": "execute_result"
    }
   ],
   "source": [
    "# weigths matrix\n",
    "W = np.zeros((8,8))\n",
    "for i in range(3):\n",
    "    W += np.outer(p[i], p[i])\n",
    "\n",
    "W = W- 3*np.eye(8)\n",
    "\n",
    "W/=3\n",
    "W"
   ]
  },
  {
   "cell_type": "code",
   "execution_count": 145,
   "metadata": {},
   "outputs": [
    {
     "name": "stdout",
     "output_type": "stream",
     "text": [
      "p1: [-1 -1  1 -1  1 -1 -1  1] x1:  [ 1 -1  1 -1  1 -1 -1  1]\n",
      "p2:  [-1 -1 -1 -1 -1  1 -1 -1] x2:  [ 1  1 -1 -1 -1  1 -1 -1]\n",
      "p3:  [-1  1  1 -1 -1  1 -1  1] x3:  [ 1  1  1 -1  1  1 -1  1]\n"
     ]
    }
   ],
   "source": [
    "x1 = np.array([+1, -1, +1, -1, +1, -1, -1, +1])\n",
    "x2 = np.array([+1, +1, -1, -1, -1, +1, -1, -1])\n",
    "x3 = np.array([+1, +1, +1, -1, +1, +1, -1, +1])\n",
    "print('p1:', p1, 'x1: ', x1)\n",
    "print('p2: ', p2, 'x2: ', x2)\n",
    "print('p3: ', p3, 'x3: ', x3)\n",
    "\n"
   ]
  },
  {
   "cell_type": "code",
   "execution_count": 116,
   "metadata": {},
   "outputs": [],
   "source": [
    "I =np.random.random((8,1))\n",
    "def retrieval(x): \n",
    "    x_new = x\n",
    "    for i in range(100):\n",
    "        x_old = x_new\n",
    "        x_new = np.sign(W @ x )\n",
    "        if np.all(x_old == x_new):\n",
    "            break\n",
    "    \n",
    "    if i==99:\n",
    "        print('not converged')\n",
    "    else:\n",
    "        print(f'converged in {i+1} its')\n",
    "    print(x_new)\n",
    "    return x_new\n",
    "    \n"
   ]
  },
  {
   "cell_type": "code",
   "execution_count": 117,
   "metadata": {},
   "outputs": [
    {
     "name": "stdout",
     "output_type": "stream",
     "text": [
      "converged in 2 its\n",
      "[-1. -1.  1. -1.  1. -1. -1.  1.]\n",
      "[-1. -1.  1. -1.  1. -1. -1.  1.]\n",
      "converged in 2 its\n",
      "[-1. -1. -1.  1. -1.  1.  1. -1.]\n",
      "[-1. -1. -1. -1. -1.  1. -1. -1.]\n",
      "converged in 2 its\n",
      "[-1.  1.  1. -1. -1. -1. -1.  1.]\n",
      "[-1.  1.  1. -1. -1.  1. -1.  1.]\n"
     ]
    }
   ],
   "source": [
    "r1 = retrieval(x1)\n",
    "print(p1.astype(float))\n",
    "r2 = retrieval(x2)\n",
    "print(p2.astype(float))\n",
    "r3 = retrieval(x3)\n",
    "print(p3.astype(float))"
   ]
  },
  {
   "cell_type": "code",
   "execution_count": 122,
   "metadata": {},
   "outputs": [
    {
     "name": "stdout",
     "output_type": "stream",
     "text": [
      "[[1. 1.]\n",
      " [1. 1.]]\n",
      "[[1.         0.77459667]\n",
      " [0.77459667 1.        ]]\n",
      "[[1.         0.48795004]\n",
      " [0.48795004 1.        ]]\n",
      "[[1.         0.48795004]\n",
      " [0.48795004 1.        ]]\n",
      "[[1.         0.77459667]\n",
      " [0.77459667 1.        ]]\n",
      "[[1.         0.57735027]\n",
      " [0.57735027 1.        ]]\n"
     ]
    }
   ],
   "source": [
    "print(np.corrcoef(r1, p1))\n",
    "print(np.corrcoef(x1, p1))\n",
    "print(np.corrcoef(r2, p2))\n",
    "print(np.corrcoef(x2, p2))\n",
    "print(np.corrcoef(r3, p3))\n",
    "print(np.corrcoef(x3, p3))\n"
   ]
  },
  {
   "cell_type": "code",
   "execution_count": 426,
   "metadata": {},
   "outputs": [],
   "source": [
    "class HopfieldNetwork():\n",
    "    def __init__(self) -> None:\n",
    "        pass\n",
    "\n",
    "    def _training(self, data: np.array):\n",
    "        n_examples, dim = data.shape\n",
    "        self.W = np.zeros((dim,dim ))\n",
    "        for i in range(n_examples):\n",
    "            self.W += np.outer(data[i], data[i])\n",
    "\n",
    "        self.W = self.W- n_examples *np.eye(dim)\n",
    "\n",
    "        self.W/= dim\n",
    "        self.n_examples = n_examples\n",
    "        self.dim = dim\n",
    "        \n",
    "    \n",
    "    def retrieval(self, x, data, max_steps, bias =0.6):\n",
    "        self.energy = []\n",
    "        self._training(data)\n",
    "        \n",
    "        x_new = x.copy()\n",
    "        for i in range(max_steps):\n",
    "     \n",
    "            neurons = np.random.permutation(self.dim)\n",
    "            x_old = x_new.copy()\n",
    "            \n",
    "\n",
    "            for neuron in neurons: \n",
    "                new_value = np.dot(self.W[neuron, :], x_new)+ bias\n",
    "                \n",
    "                x_new[neuron] = np.sign(new_value)\n",
    "                self.energy.append(np.sum( self.W * np.outer(x_new, x_new) ))\n",
    "   \n",
    "            if np.all(x_old == x_new): # check if after a change to every component, the vector is the same. \n",
    "                print(f'converged in {i+1} steps')\n",
    "                break\n",
    "    \n",
    "        return x_new\n",
    "    "
   ]
  },
  {
   "cell_type": "code",
   "execution_count": 427,
   "metadata": {},
   "outputs": [],
   "source": [
    "images =np.array(im)\n",
    "images = images.reshape(3,-1)"
   ]
  },
  {
   "cell_type": "code",
   "execution_count": 439,
   "metadata": {},
   "outputs": [
    {
     "name": "stdout",
     "output_type": "stream",
     "text": [
      "converged in 2 steps\n"
     ]
    },
    {
     "data": {
      "text/plain": [
       "<matplotlib.image.AxesImage at 0x16a447d3490>"
      ]
     },
     "execution_count": 439,
     "metadata": {},
     "output_type": "execute_result"
    },
    {
     "data": {
      "image/png": "[encoded data removed]",
      "text/plain": [
       "<Figure size 640x480 with 2 Axes>"
      ]
     },
     "metadata": {},
     "output_type": "display_data"
    }
   ],
   "source": [
    "dist_img =distort_image(im[2], 0.05)\n",
    "fig, axes =plt.subplots(1,2)\n",
    "axes[0].imshow(dist_img)\n",
    "dist_img = dist_img.reshape(-1,1)\n",
    "hopfield_net= HopfieldNetwork()\n",
    "\n",
    "retrieved = hopfield_net.retrieval(dist_img, images, 100, bias =0.7)\n",
    "\n",
    "axes[1].imshow(retrieved.reshape(32,32))\n"
   ]
  },
  {
   "cell_type": "code",
   "execution_count": 440,
   "metadata": {},
   "outputs": [
    {
     "data": {
      "text/plain": [
       "[<matplotlib.lines.Line2D at 0x16a448aab90>]"
      ]
     },
     "execution_count": 440,
     "metadata": {},
     "output_type": "execute_result"
    },
    {
     "data": {
      "image/png": "[encoded data removed]",
      "text/plain": [
       "<Figure size 640x480 with 1 Axes>"
      ]
     },
     "metadata": {},
     "output_type": "display_data"
    }
   ],
   "source": [
    "plt.plot( (-1./2) * np.array(hopfield_net.energy) )"
   ]
  },
  {
   "cell_type": "code",
   "execution_count": 437,
   "metadata": {},
   "outputs": [
    {
     "data": {
      "text/plain": [
       "array([3.09593047e-293, 3.09593047e-293, 3.09593047e-293, ...,\n",
       "       0.00000000e+000, 0.00000000e+000, 0.00000000e+000])"
      ]
     },
     "execution_count": 437,
     "metadata": {},
     "output_type": "execute_result"
    }
   ],
   "source": []
  },
  {
   "cell_type": "code",
   "execution_count": 374,
   "metadata": {},
   "outputs": [
    {
     "data": {
      "text/plain": [
       "<matplotlib.image.AxesImage at 0x16a3cec8b80>"
      ]
     },
     "execution_count": 374,
     "metadata": {},
     "output_type": "execute_result"
    },
    {
     "data": {
      "image/png": "[encoded data removed]",
      "text/plain": [
       "<Figure size 640x480 with 1 Axes>"
      ]
     },
     "metadata": {},
     "output_type": "display_data"
    }
   ],
   "source": [
    "retrieved =retrieved.reshape(32,32)\n",
    "plt.imshow(retrieved)"
   ]
  },
  {
   "cell_type": "code",
   "execution_count": 262,
   "metadata": {},
   "outputs": [
    {
     "data": {
      "text/plain": [
       "array([1., 0.])"
      ]
     },
     "execution_count": 262,
     "metadata": {},
     "output_type": "execute_result"
    }
   ],
   "source": []
  },
  {
   "cell_type": "code",
   "execution_count": null,
   "metadata": {},
   "outputs": [],
   "source": []
  }
 ],
 "metadata": {
  "kernelspec": {
   "display_name": "Python 3",
   "language": "python",
   "name": "python3"
  },
  "language_info": {
   "codemirror_mode": {
    "name": "ipython",
    "version": 3
   },
   "file_extension": ".py",
   "mimetype": "text/x-python",
   "name": "python",
   "nbconvert_exporter": "python",
   "pygments_lexer": "ipython3",
   "version": "3.10.8"
  }
 },
 "nbformat": 4,
 "nbformat_minor": 2
}
