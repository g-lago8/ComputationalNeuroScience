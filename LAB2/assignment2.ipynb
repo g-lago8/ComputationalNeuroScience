{
 "cells": [
  {
   "cell_type": "code",
   "execution_count": 2,
   "metadata": {},
   "outputs": [],
   "source": [
    "import pandas as pd\n",
    "import numpy as np\n",
    "import matplotlib.pyplot as plt"
   ]
  },
  {
   "cell_type": "code",
   "execution_count": 24,
   "metadata": {},
   "outputs": [
    {
     "data": {
      "text/plain": [
       "(100, 2)"
      ]
     },
     "execution_count": 24,
     "metadata": {},
     "output_type": "execute_result"
    }
   ],
   "source": [
    "df=pd.read_csv('dataset/lab2_1_data.csv', header=None)\n",
    "\n",
    "# transpose the data \n",
    "df = df.T\n",
    "df.head()\n",
    "data = df.values\n",
    "data.shape"
   ]
  },
  {
   "cell_type": "code",
   "execution_count": 49,
   "metadata": {},
   "outputs": [
    {
     "name": "stdout",
     "output_type": "stream",
     "text": [
      "[[ 1.         -0.79945262]\n",
      " [-0.79945262  1.        ]]\n",
      "[1.79945262 0.20054738]\n",
      "[[ 0.70710678  0.70710678]\n",
      " [-0.70710678  0.70710678]]\n"
     ]
    },
    {
     "data": {
      "text/plain": [
       "Text(0, 0.5, 'X2')"
      ]
     },
     "execution_count": 49,
     "metadata": {},
     "output_type": "execute_result"
    },
    {
     "data": {
      "image/png": "[encoded data removed]",
      "text/plain": [
       "<Figure size 640x480 with 1 Axes>"
      ]
     },
     "metadata": {},
     "output_type": "display_data"
    }
   ],
   "source": [
    "# correlation matrix\n",
    "corr = np.corrcoef(data.T)\n",
    "print(corr)\n",
    "# eigen decomposition\n",
    "eig_vals, eig_vecs = np.linalg.eig(corr)\n",
    "print(eig_vals)\n",
    "print(eig_vecs)\n",
    "# plot the data\n",
    "plt.scatter(data[:,0], data[:,1])\n",
    "# plot the eigenvectors\n",
    "plt.quiver(0, 0, eig_vecs[0,0]* eig_vals[0], eig_vecs[1,0]* eig_vals[0], scale= 2, scale_units='xy', angles='xy', color='g', label='principal eigenvector')\n",
    "plt.quiver(0, 0, eig_vecs[0,1]*eig_vals[1], eig_vecs[1,1]*eig_vals[1], scale=2, scale_units='xy', angles='xy', color='r', label='secondary eigenvector')\n",
    "plt.xlabel('X1')\n",
    "plt.ylabel('X2')\n",
    "\n"
   ]
  },
  {
   "cell_type": "code",
   "execution_count": null,
   "metadata": {},
   "outputs": [],
   "source": [
    "w = np.random.rand(1, 2) # weight vector"
   ]
  },
  {
   "cell_type": "code",
   "execution_count": 27,
   "metadata": {},
   "outputs": [],
   "source": [
    "class Hebbian:\n",
    "    def __init__(self, dim) -> None:\n",
    "        self.w = (np.random.rand(1, dim) - 0.5) * 2 # weight vector\n",
    "        \n",
    "\n",
    "    def train(self, data):\n",
    "        # empty, must be implemented in subclass\n",
    "        print(\"train method not implemented\")\n",
    "        \n",
    "    def predict(self, data):\n",
    "        return np.dot(data, self.w.T)"
   ]
  },
  {
   "cell_type": "code",
   "execution_count": 28,
   "metadata": {},
   "outputs": [],
   "source": [
    "class BasicHebbian(Hebbian):\n",
    "\n",
    "    def __init__(self, dim) -> None:\n",
    "        super().__init__(dim)\n",
    "\n",
    "    def train(self, data, eta, n_epochs):\n",
    "        # shuffle the data\n",
    "        np.random.shuffle(data)\n",
    "        for epoch in range(n_epochs):\n",
    "            for u in data:\n",
    "                v = np.dot(self.w, u.T)\n",
    "                self.w += eta*(u * v)\n",
    "        \n"
   ]
  },
  {
   "cell_type": "code",
   "execution_count": 29,
   "metadata": {},
   "outputs": [],
   "source": [
    "hebbian_net = BasicHebbian(2)\n",
    "hebbian_net.train(data, 0.1, 100)\n"
   ]
  },
  {
   "cell_type": "code",
   "execution_count": 31,
   "metadata": {},
   "outputs": [
    {
     "data": {
      "text/plain": [
       "array([[ 3.09629747e+243],\n",
       "       [ 5.26869278e+243],\n",
       "       [-4.41875430e+243],\n",
       "       [-5.30628401e+243],\n",
       "       [ 4.13087750e+243],\n",
       "       [-2.88832122e+243],\n",
       "       [-3.68502430e+243],\n",
       "       [ 5.46957007e+243],\n",
       "       [ 4.96105926e+243],\n",
       "       [ 1.43226684e+243],\n",
       "       [ 2.47095166e+243],\n",
       "       [ 3.71746572e+243],\n",
       "       [ 4.68203178e+243],\n",
       "       [-3.20625039e+243],\n",
       "       [ 5.45656624e+243],\n",
       "       [-3.72913370e+243],\n",
       "       [ 5.48531561e+243],\n",
       "       [-4.87686325e+243],\n",
       "       [-2.86269066e+243],\n",
       "       [ 3.64017629e+243],\n",
       "       [ 3.38688151e+243],\n",
       "       [-2.51051622e+243],\n",
       "       [-2.17573955e+243],\n",
       "       [ 2.54049502e+243],\n",
       "       [ 1.73150118e+243],\n",
       "       [-2.61406739e+243],\n",
       "       [ 3.21311164e+243],\n",
       "       [ 2.81587225e+243],\n",
       "       [ 5.45926643e+243],\n",
       "       [-3.62762622e+243],\n",
       "       [-5.91530135e+243],\n",
       "       [-5.62934567e+243],\n",
       "       [-2.87590133e+243],\n",
       "       [-3.34508757e+243],\n",
       "       [ 4.09051030e+243],\n",
       "       [-4.68603633e+243],\n",
       "       [ 4.79638919e+243],\n",
       "       [-5.66435760e+243],\n",
       "       [ 3.12183291e+243],\n",
       "       [ 4.03105586e+243],\n",
       "       [-1.78687993e+243],\n",
       "       [ 5.21368877e+243],\n",
       "       [ 3.17516549e+243],\n",
       "       [-5.53505235e+243],\n",
       "       [-2.56690953e+243],\n",
       "       [-1.52143121e+243],\n",
       "       [ 3.72893856e+243],\n",
       "       [ 1.84884159e+243],\n",
       "       [-5.36691633e+243],\n",
       "       [-4.13156874e+243],\n",
       "       [ 4.37830330e+243],\n",
       "       [-2.97533668e+243],\n",
       "       [-3.38264196e+243],\n",
       "       [-5.09708558e+243],\n",
       "       [ 2.44566892e+243],\n",
       "       [ 5.22931174e+243],\n",
       "       [ 4.32425120e+243],\n",
       "       [ 4.85833468e+243],\n",
       "       [-3.74945897e+243],\n",
       "       [-7.65942099e+243],\n",
       "       [ 4.75277619e+243],\n",
       "       [ 4.28102264e+243],\n",
       "       [ 2.63456016e+243],\n",
       "       [ 6.12225097e+243],\n",
       "       [ 3.97258539e+243],\n",
       "       [ 2.24949433e+243],\n",
       "       [ 2.88244089e+243],\n",
       "       [ 5.50443722e+243],\n",
       "       [-5.73339872e+243],\n",
       "       [ 1.75633175e+243],\n",
       "       [-4.10500140e+243],\n",
       "       [-3.75212644e+243],\n",
       "       [ 3.87066969e+243],\n",
       "       [-1.94252982e+243],\n",
       "       [-4.15857504e+243],\n",
       "       [ 3.47583315e+243],\n",
       "       [ 3.75640724e+243],\n",
       "       [ 1.43927514e+243],\n",
       "       [-2.91201681e+243],\n",
       "       [-5.59227861e+243],\n",
       "       [ 4.02952889e+243],\n",
       "       [-4.57999243e+243],\n",
       "       [-2.60283667e+243],\n",
       "       [ 3.79000659e+243],\n",
       "       [-2.72074985e+243],\n",
       "       [-4.81983348e+243],\n",
       "       [-3.11682173e+243],\n",
       "       [-2.43152124e+243],\n",
       "       [-2.61799424e+243],\n",
       "       [ 3.86454763e+243],\n",
       "       [ 2.14320150e+243],\n",
       "       [-2.88165320e+243],\n",
       "       [ 3.38581405e+243],\n",
       "       [-4.38294567e+243],\n",
       "       [ 5.82044962e+243],\n",
       "       [-5.89673095e+243],\n",
       "       [ 9.04142012e+242],\n",
       "       [-2.90922281e+243],\n",
       "       [-4.50429788e+243],\n",
       "       [-5.38574092e+243]])"
      ]
     },
     "execution_count": 31,
     "metadata": {},
     "output_type": "execute_result"
    }
   ],
   "source": [
    "hebbian_net.predict(data)"
   ]
  },
  {
   "cell_type": "code",
   "execution_count": 58,
   "metadata": {},
   "outputs": [
    {
     "name": "stdout",
     "output_type": "stream",
     "text": [
      "[[ 1.         -0.79945262]\n",
      " [-0.79945262  1.        ]]\n"
     ]
    },
    {
     "data": {
      "text/plain": [
       "<matplotlib.quiver.Quiver at 0x2eaad89eb00>"
      ]
     },
     "execution_count": 58,
     "metadata": {},
     "output_type": "execute_result"
    },
    {
     "data": {
      "image/png": "[encoded data removed]",
      "text/plain": [
       "<Figure size 640x480 with 1 Axes>"
      ]
     },
     "metadata": {},
     "output_type": "display_data"
    }
   ],
   "source": [
    "# correlation matrix\n",
    "corr = np.corrcoef(data.T)\n",
    "print(corr)\n",
    "# eigen decomposition\n",
    "eig_vals, eig_vecs = np.linalg.eig(corr)\n",
    "# plot the data\n",
    "plt.scatter(data[:,0], data[:,1])\n",
    "# plot the eigenvectors\n",
    "plt.quiver(0, 0, eig_vecs[0,0]* eig_vals[0], eig_vecs[1,0]* eig_vals[0], scale= 2, scale_units='xy', angles='xy', color='g', label='principal eigenvector')\n",
    "plt.quiver(0, 0, eig_vecs[0,1]*eig_vals[1], eig_vecs[1,1]*eig_vals[1], scale=2, scale_units='xy', angles='xy', color='r', label='secondary eigenvector')\n",
    "plt.xlabel('X1')\n",
    "plt.ylabel('X2')\n",
    "\n",
    "# plot the weight vector\n",
    "plt.quiver(0, 0, hebbian_net.w[0,0], hebbian_net.w[0,1], scale=1e244, scale_units='xy', angles='xy', color='b')\n"
   ]
  },
  {
   "cell_type": "code",
   "execution_count": null,
   "metadata": {},
   "outputs": [],
   "source": [
    "class OjaHebbian(Hebbian):\n",
    "\n",
    "    def __init__(self, dim) -> None:\n",
    "        super().__init__(dim)\n",
    "        \n",
    "    def train(self, data, n_epochs):\n",
    "        # shuffle the data\n",
    "        np.random.shuffle(data)\n",
    "        for epoch in range(n_epochs):\n",
    "            for u in data:\n",
    "                v = np.dot(self.w, u.T)\n",
    "                self.w += 0.1 * v * (u - v * self.w)"
   ]
  }
 ],
 "metadata": {
  "kernelspec": {
   "display_name": "Python 3",
   "language": "python",
   "name": "python3"
  },
  "language_info": {
   "codemirror_mode": {
    "name": "ipython",
    "version": 3
   },
   "file_extension": ".py",
   "mimetype": "text/x-python",
   "name": "python",
   "nbconvert_exporter": "python",
   "pygments_lexer": "ipython3",
   "version": "3.10.8"
  }
 },
 "nbformat": 4,
 "nbformat_minor": 2
}
